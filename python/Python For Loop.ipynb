{
 "cells": [
  {
   "cell_type": "markdown",
   "id": "c8805d1c",
   "metadata": {},
   "source": [
    "## Python For Loop\n",
    "\n",
    "Python For loop is used for sequential traversal i.e. it is used for iterating over an iterable like string, tuple, list, etc.\n",
    "\n",
    "With the for loop we can execute a set of statements, once for each item in a list, tuple, set etc"
   ]
  },
  {
   "cell_type": "markdown",
   "id": "17581953",
   "metadata": {},
   "source": [
    "### Syntax"
   ]
  },
  {
   "cell_type": "markdown",
   "id": "e7db881c",
   "metadata": {},
   "source": [
    "for var in iterable:<br>\n",
    "    # statements"
   ]
  },
  {
   "cell_type": "markdown",
   "id": "bc4dfe25",
   "metadata": {},
   "source": [
    "### Iterating over a List\n"
   ]
  },
  {
   "cell_type": "code",
   "execution_count": 2,
   "id": "b1306766",
   "metadata": {},
   "outputs": [
    {
     "name": "stdout",
     "output_type": "stream",
     "text": [
      "List Iteration\n",
      "tech\n",
      "data\n",
      "gyan\n"
     ]
    }
   ],
   "source": [
    "# Iterating over a list\n",
    "print(\"List Iteration\")\n",
    "l = [\"tech\", \"data\", \"gyan\"]\n",
    "for i in l:\n",
    "    print(i)"
   ]
  },
  {
   "cell_type": "markdown",
   "id": "645bef65",
   "metadata": {},
   "source": [
    "###  Iterating over a tuple (immutable)"
   ]
  },
  {
   "cell_type": "code",
   "execution_count": 3,
   "id": "6ed3c5e3",
   "metadata": {},
   "outputs": [
    {
     "name": "stdout",
     "output_type": "stream",
     "text": [
      "\n",
      "Tuple Iteration\n",
      "tech\n",
      "data\n",
      "gyan\n"
     ]
    }
   ],
   "source": [
    "# Iterating over a tuple (immutable)\n",
    "print(\"\\nTuple Iteration\")\n",
    "t = (\"tech\", \"data\", \"gyan\")\n",
    "for i in t:\n",
    "    print(i)"
   ]
  },
  {
   "cell_type": "markdown",
   "id": "240bf8c2",
   "metadata": {},
   "source": [
    "### Iterating over a String"
   ]
  },
  {
   "cell_type": "code",
   "execution_count": 4,
   "id": "34491406",
   "metadata": {},
   "outputs": [
    {
     "name": "stdout",
     "output_type": "stream",
     "text": [
      "\n",
      "String Iteration\n",
      "t\n",
      "e\n",
      "c\n",
      "h\n",
      "d\n",
      "a\n",
      "t\n",
      "a\n",
      "g\n",
      "y\n",
      "a\n",
      "n\n"
     ]
    }
   ],
   "source": [
    "print(\"\\nString Iteration\")\n",
    "s = \"techdatagyan\"\n",
    "for i in s:\n",
    "    print(i)"
   ]
  },
  {
   "cell_type": "markdown",
   "id": "2cc9106d",
   "metadata": {},
   "source": [
    "### # Iterating over dictionary"
   ]
  },
  {
   "cell_type": "code",
   "execution_count": 8,
   "id": "33ba4e83",
   "metadata": {},
   "outputs": [
    {
     "name": "stdout",
     "output_type": "stream",
     "text": [
      "\n",
      "Dictionary Iteration\n",
      "a  1\n",
      "b  2\n"
     ]
    }
   ],
   "source": [
    "print(\"\\nDictionary Iteration\")\n",
    "d = dict()\n",
    "d['a'] = 1\n",
    "d['b'] = 2\n",
    "for i in d:\n",
    "    print(\"% s % d\" % (i, d[i]))"
   ]
  },
  {
   "cell_type": "markdown",
   "id": "947d4784",
   "metadata": {},
   "source": [
    "## The break Statement\n",
    "\n",
    "With the break statement we can stop the loop before it has looped through all the items:"
   ]
  },
  {
   "cell_type": "code",
   "execution_count": 12,
   "id": "fb504067",
   "metadata": {},
   "outputs": [
    {
     "name": "stdout",
     "output_type": "stream",
     "text": [
      "tech\n",
      "data\n"
     ]
    }
   ],
   "source": [
    "fruits = [\"tech\", \"data\", \"gyan\"]\n",
    "for x in fruits:\n",
    "    print(x)\n",
    "    if x == \"data\":\n",
    "        break"
   ]
  },
  {
   "cell_type": "markdown",
   "id": "ae49c664",
   "metadata": {},
   "source": [
    "## The continue Statement\n",
    "\n",
    "With the continue statement we can stop the current iteration of the loop, and continue with the next:"
   ]
  },
  {
   "cell_type": "code",
   "execution_count": 14,
   "id": "f7525331",
   "metadata": {},
   "outputs": [
    {
     "name": "stdout",
     "output_type": "stream",
     "text": [
      "tech\n",
      "gyan\n"
     ]
    }
   ],
   "source": [
    "fruits = [\"tech\", \"data\", \"gyan\"]\n",
    "for x in fruits:    \n",
    "    if x == \"data\":\n",
    "        continue\n",
    "    print(x)\n"
   ]
  },
  {
   "cell_type": "markdown",
   "id": "84d28e95",
   "metadata": {},
   "source": [
    "## Pass Statement\n",
    "\n",
    "for loops cannot be empty, but if you for some reason have a for loop with no content, put in the pass statement to avoid getting an error."
   ]
  },
  {
   "cell_type": "code",
   "execution_count": 15,
   "id": "6ef54ec7",
   "metadata": {},
   "outputs": [
    {
     "name": "stdout",
     "output_type": "stream",
     "text": [
      "Last Letter : n\n"
     ]
    }
   ],
   "source": [
    "for letter in 'techdatagyan':\n",
    "    pass\n",
    "print('Last Letter :', letter)"
   ]
  },
  {
   "cell_type": "markdown",
   "id": "7615c20e",
   "metadata": {},
   "source": [
    "## range() function\n",
    "\n",
    "The range() function returns a sequence of numbers, starting from 0 by default, and increments by 1 (by default), and ends at a specified number."
   ]
  },
  {
   "cell_type": "code",
   "execution_count": 17,
   "id": "549ba748",
   "metadata": {},
   "outputs": [
    {
     "name": "stdout",
     "output_type": "stream",
     "text": [
      "0 1 2 3 4 5 6 7 8 9 "
     ]
    }
   ],
   "source": [
    "for i in range(10):\n",
    "    print(i, end=\" \")\n"
   ]
  },
  {
   "cell_type": "markdown",
   "id": "fcd9e262",
   "metadata": {},
   "source": [
    "## Else in For Loop\n",
    "\n",
    "The else keyword in a for loop specifies a block of code to be executed when the loop is finished.\n",
    "\n",
    "The else block just after for/while is executed only when the loop is NOT terminated by a break statement."
   ]
  },
  {
   "cell_type": "code",
   "execution_count": 19,
   "id": "10cd19de",
   "metadata": {},
   "outputs": [
    {
     "name": "stdout",
     "output_type": "stream",
     "text": [
      "0\n",
      "1\n",
      "Finished!\n"
     ]
    }
   ],
   "source": [
    "for x in range(2):\n",
    "    print(x)\n",
    "else:\n",
    "    print(\"Finished!\")"
   ]
  },
  {
   "cell_type": "markdown",
   "id": "f92f2abf",
   "metadata": {},
   "source": [
    "The else block will NOT be executed if the loop is stopped by a break statement."
   ]
  },
  {
   "cell_type": "code",
   "execution_count": 21,
   "id": "cd60e73a",
   "metadata": {},
   "outputs": [
    {
     "name": "stdout",
     "output_type": "stream",
     "text": [
      "0\n",
      "1\n",
      "2\n"
     ]
    }
   ],
   "source": [
    "for x in range(5):\n",
    "    if x == 3: break\n",
    "    print(x)\n",
    "else:\n",
    "    print(\"Finished!\")"
   ]
  },
  {
   "cell_type": "code",
   "execution_count": null,
   "id": "11278780",
   "metadata": {},
   "outputs": [],
   "source": []
  }
 ],
 "metadata": {
  "kernelspec": {
   "display_name": "Python 3 (ipykernel)",
   "language": "python",
   "name": "python3"
  },
  "language_info": {
   "codemirror_mode": {
    "name": "ipython",
    "version": 3
   },
   "file_extension": ".py",
   "mimetype": "text/x-python",
   "name": "python",
   "nbconvert_exporter": "python",
   "pygments_lexer": "ipython3",
   "version": "3.9.2"
  }
 },
 "nbformat": 4,
 "nbformat_minor": 5
}
