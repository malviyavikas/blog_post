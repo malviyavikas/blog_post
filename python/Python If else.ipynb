{
 "cells": [
  {
   "cell_type": "markdown",
   "id": "2cebec2e",
   "metadata": {},
   "source": [
    "## Python if else"
   ]
  },
  {
   "cell_type": "markdown",
   "id": "271908e3",
   "metadata": {},
   "source": [
    "Decision making statements in programming languages decides the direction of flow of program execution. Decision making statements available in python are:\n",
    "\n",
    "1. if statement\n",
    "2. if..else statements\n",
    "3. if-elif statement\n",
    "4. Short Hand if statement\n",
    "5. Short Hand if-else statement\n",
    "6. Nested if statement\n",
    "7. Pass statement"
   ]
  },
  {
   "cell_type": "markdown",
   "id": "d1cb3fe6",
   "metadata": {},
   "source": [
    "### if statement\n",
    "\n",
    "It is used to decides whether the statement or block of statement will execute or not."
   ]
  },
  {
   "cell_type": "code",
   "execution_count": 3,
   "id": "44c63576",
   "metadata": {},
   "outputs": [
    {
     "name": "stdout",
     "output_type": "stream",
     "text": [
      "tdg2 is greater than tdg1\n"
     ]
    }
   ],
   "source": [
    "tdg1 = 10\n",
    "tdg2 = 20\n",
    "if tdg2 > tdg1:\n",
    "    print(\"tdg2 is greater than tdg1\")"
   ]
  },
  {
   "cell_type": "markdown",
   "id": "6c9b4970",
   "metadata": {},
   "source": [
    "In this example we use two variables, tdg1 and tdg2, which are used as part of the if statement to test whether tdg2 is greater than tdg1. tdg1 a is 10, and tdg2 is 20, we know that 20 is greater than 10, so we will print the higher number from the two variables."
   ]
  },
  {
   "cell_type": "markdown",
   "id": "decb7402",
   "metadata": {},
   "source": [
    "### if else statement"
   ]
  },
  {
   "cell_type": "code",
   "execution_count": 4,
   "id": "5525a0ee",
   "metadata": {},
   "outputs": [
    {
     "name": "stdout",
     "output_type": "stream",
     "text": [
      "tdg1 is greater than tdg2\n"
     ]
    }
   ],
   "source": [
    "tdg1 = 20\n",
    "tdg2 = 10\n",
    "\n",
    "if tdg2 > tdg1:\n",
    "    print(\"tdg2 is greater than tdg1\")\n",
    "else:\n",
    "    print(\"tdg1 is greater than tdg2\")"
   ]
  },
  {
   "cell_type": "markdown",
   "id": "cccb21a5",
   "metadata": {},
   "source": [
    "In this example we use two variables, tdg1 and tdg2, which are used as part of the if statement to test whether tdg2 is greater than tdg1. tdg1 a is 20, and tdg2 is 10, we know that 20 is greater than 10, so we go to the else condition and print to screen that \"tdg1 is greater than tdg2\"."
   ]
  },
  {
   "cell_type": "markdown",
   "id": "541f4e75",
   "metadata": {},
   "source": [
    "### if elif else statement\n",
    "\n",
    "\n",
    "The elif keyword is pythons way of saying \"if the previous conditions were not true, then try this condition\"."
   ]
  },
  {
   "cell_type": "code",
   "execution_count": 6,
   "id": "c2e269b6",
   "metadata": {},
   "outputs": [
    {
     "name": "stdout",
     "output_type": "stream",
     "text": [
      "tdg is 10\n"
     ]
    }
   ],
   "source": [
    "tdg = 10\n",
    "if (tdg == 1):\n",
    "    print (\"tdg is 1\")\n",
    "elif (tdg == 5):\n",
    "    print (\"tdg is 5\")\n",
    "elif (tdg == 10):\n",
    "    print (\"tdg is 10\")\n",
    "else:\n",
    "    print (\"tdg is not present\")"
   ]
  },
  {
   "cell_type": "markdown",
   "id": "f53553b0",
   "metadata": {},
   "source": [
    "In this example a is equal to b, so the first condition is not true, but the elif condition is true, so we print to screen that value of i is 10"
   ]
  },
  {
   "cell_type": "markdown",
   "id": "9b04d9b9",
   "metadata": {},
   "source": [
    "### Short Hand If\n",
    "\n",
    "The statement can be put on the same line as the if statemen"
   ]
  },
  {
   "cell_type": "code",
   "execution_count": 7,
   "id": "baa0feda",
   "metadata": {},
   "outputs": [
    {
     "name": "stdout",
     "output_type": "stream",
     "text": [
      "tdg is less than 2\n"
     ]
    }
   ],
   "source": [
    "tdg = 1\n",
    "if tdg < 2 : print(\"tdg is less than 2\")"
   ]
  },
  {
   "cell_type": "markdown",
   "id": "bbcc310f",
   "metadata": {},
   "source": [
    "### Short Hand if-else statement\n",
    "\n",
    "If you have only one statement to execute, one for if, and one for else, you can put it all on the same line:"
   ]
  },
  {
   "cell_type": "code",
   "execution_count": 10,
   "id": "c5422701",
   "metadata": {},
   "outputs": [
    {
     "name": "stdout",
     "output_type": "stream",
     "text": [
      "True\n"
     ]
    }
   ],
   "source": [
    "tdg = 1\n",
    "print(True) if tdg < 5 else print(False)"
   ]
  },
  {
   "cell_type": "markdown",
   "id": "11a7bbed",
   "metadata": {},
   "source": [
    "### Nested If\n",
    "\n",
    "You can have if statements inside if statements, this is called nested if statements"
   ]
  },
  {
   "cell_type": "code",
   "execution_count": 11,
   "id": "60426081",
   "metadata": {},
   "outputs": [
    {
     "name": "stdout",
     "output_type": "stream",
     "text": [
      "tdg is smaller than 5\n",
      "tdg is smaller than 2 too\n"
     ]
    }
   ],
   "source": [
    "tdg = 1\n",
    "\n",
    "if (tdg == 1):    \n",
    "    if (tdg < 5):\n",
    "        print (\"tdg is smaller than 5\")   \n",
    "    if (tdg < 2):\n",
    "        print (\"tdg is smaller than 2 too\")\n",
    "    else:\n",
    "        print (\"tdg is greater than 5\")\n",
    "        \n"
   ]
  },
  {
   "cell_type": "code",
   "execution_count": null,
   "id": "9abc3c0f",
   "metadata": {},
   "outputs": [],
   "source": []
  },
  {
   "cell_type": "code",
   "execution_count": null,
   "id": "797d349c",
   "metadata": {},
   "outputs": [],
   "source": []
  },
  {
   "cell_type": "code",
   "execution_count": null,
   "id": "6a41cbb8",
   "metadata": {},
   "outputs": [],
   "source": []
  },
  {
   "cell_type": "code",
   "execution_count": null,
   "id": "4fcb95dd",
   "metadata": {},
   "outputs": [],
   "source": []
  }
 ],
 "metadata": {
  "kernelspec": {
   "display_name": "Python 3 (ipykernel)",
   "language": "python",
   "name": "python3"
  },
  "language_info": {
   "codemirror_mode": {
    "name": "ipython",
    "version": 3
   },
   "file_extension": ".py",
   "mimetype": "text/x-python",
   "name": "python",
   "nbconvert_exporter": "python",
   "pygments_lexer": "ipython3",
   "version": "3.9.2"
  }
 },
 "nbformat": 4,
 "nbformat_minor": 5
}
