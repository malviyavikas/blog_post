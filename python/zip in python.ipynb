{
 "cells": [
  {
   "cell_type": "code",
   "execution_count": 2,
   "id": "d6ee0662",
   "metadata": {},
   "outputs": [
    {
     "name": "stdout",
     "output_type": "stream",
     "text": [
      "Employee a  has skills of Python.\n",
      "Employee b  has skills of PySpark.\n",
      "Employee c  has skills of Machine Learning.\n"
     ]
    }
   ],
   "source": [
    "# initializing list\n",
    "employee= ['a', 'b', 'c']\n",
    "skills = ['Python', 'PySpark', 'Machine Learning']\n",
    "\n",
    "# using zip() to combine two containers\n",
    "# and print values\n",
    "for employee, skills in zip(employee, skills):\n",
    "    print('Employee {0}  has skills of {1}.'.format(employee, skills))"
   ]
  },
  {
   "cell_type": "code",
   "execution_count": 4,
   "id": "5fde2af3",
   "metadata": {},
   "outputs": [
    {
     "name": "stdout",
     "output_type": "stream",
     "text": [
      "('a', 'b', 'c')\n",
      "('python', 'pyspark', 'Machine Learning')\n"
     ]
    }
   ],
   "source": [
    "# Python program to demonstrate unzip (reverse \n",
    "# of zip)using * with zip function\n",
    "  \n",
    "# Unzip lists\n",
    "employee,skills = zip(*[('a', 'python'), \n",
    "              ('b', 'pyspark'), \n",
    "              ('c', 'Machine Learning') \n",
    "           ])\n",
    "  \n",
    "# Printing unzipped lists      \n",
    "print(employee)\n",
    "print(skills)"
   ]
  },
  {
   "cell_type": "code",
   "execution_count": null,
   "id": "6f29bca9",
   "metadata": {},
   "outputs": [],
   "source": []
  },
  {
   "cell_type": "code",
   "execution_count": 5,
   "id": "672d2caa",
   "metadata": {},
   "outputs": [
    {
     "name": "stdout",
     "output_type": "stream",
     "text": [
      "2\n"
     ]
    }
   ],
   "source": [
    "x = lambda a : a + 1\n",
    "print(x(1))"
   ]
  },
  {
   "cell_type": "code",
   "execution_count": 7,
   "id": "484e5c3c",
   "metadata": {},
   "outputs": [
    {
     "name": "stdout",
     "output_type": "stream",
     "text": [
      "4\n"
     ]
    }
   ],
   "source": [
    "x = lambda a, b : a * b\n",
    "print(x(2, 2))"
   ]
  },
  {
   "cell_type": "code",
   "execution_count": 8,
   "id": "430338bf",
   "metadata": {},
   "outputs": [
    {
     "name": "stdout",
     "output_type": "stream",
     "text": [
      "16\n",
      "36\n"
     ]
    }
   ],
   "source": [
    "def square(y): \n",
    "    return y*y; \n",
    "    \n",
    "g = lambda x: x*x \n",
    "print(g(4)) \n",
    "    \n",
    "print(square(6))"
   ]
  },
  {
   "cell_type": "code",
   "execution_count": null,
   "id": "2a240076",
   "metadata": {},
   "outputs": [],
   "source": []
  },
  {
   "cell_type": "code",
   "execution_count": null,
   "id": "99e429da",
   "metadata": {},
   "outputs": [],
   "source": []
  },
  {
   "cell_type": "code",
   "execution_count": null,
   "id": "dffc15ad",
   "metadata": {},
   "outputs": [],
   "source": []
  }
 ],
 "metadata": {
  "kernelspec": {
   "display_name": "Python 3 (ipykernel)",
   "language": "python",
   "name": "python3"
  },
  "language_info": {
   "codemirror_mode": {
    "name": "ipython",
    "version": 3
   },
   "file_extension": ".py",
   "mimetype": "text/x-python",
   "name": "python",
   "nbconvert_exporter": "python",
   "pygments_lexer": "ipython3",
   "version": "3.9.2"
  }
 },
 "nbformat": 4,
 "nbformat_minor": 5
}
