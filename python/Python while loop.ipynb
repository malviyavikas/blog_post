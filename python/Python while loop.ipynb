{
 "cells": [
  {
   "cell_type": "markdown",
   "id": "5c76fc20",
   "metadata": {},
   "source": [
    "## Python While Loop\n",
    "\n",
    "With the while loop we can execute a set of statements until a given condition is satisfied."
   ]
  },
  {
   "cell_type": "markdown",
   "id": "0a15a3ae",
   "metadata": {},
   "source": [
    "### Syntax"
   ]
  },
  {
   "cell_type": "markdown",
   "id": "7b96664a",
   "metadata": {},
   "source": [
    "while expression:<br>\n",
    "    statement(s)"
   ]
  },
  {
   "cell_type": "markdown",
   "id": "82f359a3",
   "metadata": {},
   "source": [
    "### Python While Loop\n",
    "\n",
    "remember to increment tdg, or else the loop will continue forever."
   ]
  },
  {
   "cell_type": "code",
   "execution_count": 8,
   "id": "cd173218",
   "metadata": {},
   "outputs": [
    {
     "name": "stdout",
     "output_type": "stream",
     "text": [
      "Tech Data Gyan\n",
      "Tech Data Gyan\n"
     ]
    }
   ],
   "source": [
    "i = 1\n",
    "while i < 3:\n",
    "  print(\"Tech Data Gyan\")\n",
    "  i += 1"
   ]
  },
  {
   "cell_type": "markdown",
   "id": "1ccf27b4",
   "metadata": {},
   "source": [
    "remember to increment tdg, or else the loop will continue forever."
   ]
  },
  {
   "cell_type": "markdown",
   "id": "c49f3744",
   "metadata": {},
   "source": [
    "### Python while loop with list"
   ]
  },
  {
   "cell_type": "code",
   "execution_count": 9,
   "id": "5dda33ef",
   "metadata": {},
   "outputs": [
    {
     "name": "stdout",
     "output_type": "stream",
     "text": [
      "gyan\n",
      "data\n",
      "tech\n"
     ]
    }
   ],
   "source": [
    "i = [\"tech\", \"data\", \"gyan\"]\n",
    " \n",
    "while i:\n",
    "    print(i.pop())"
   ]
  },
  {
   "cell_type": "markdown",
   "id": "be0eb3dc",
   "metadata": {},
   "source": [
    "### Single statement while block\n",
    "\n",
    "we can declare the entire loop in a single line. For multiple statements in the block,they can be separated by semicolons (;)"
   ]
  },
  {
   "cell_type": "code",
   "execution_count": 11,
   "id": "bf739bf1",
   "metadata": {},
   "outputs": [
    {
     "name": "stdout",
     "output_type": "stream",
     "text": [
      "Tech Data Gyan\n",
      "Tech Data Gyan\n",
      "Tech Data Gyan\n"
     ]
    }
   ],
   "source": [
    "i = 0\n",
    "while (i < 3): i += 1; print(\"Tech Data Gyan\")"
   ]
  },
  {
   "cell_type": "markdown",
   "id": "d52fdc59",
   "metadata": {},
   "source": [
    "### Continue Statement\n",
    "\n",
    "With the continue statement we can stop the current iteration, and continue with the next:"
   ]
  },
  {
   "cell_type": "code",
   "execution_count": 12,
   "id": "c5fe6345",
   "metadata": {},
   "outputs": [
    {
     "name": "stdout",
     "output_type": "stream",
     "text": [
      "Current Letter : t\n",
      "Current Letter : e\n",
      "Current Letter : c\n",
      "Current Letter : h\n",
      "Current Letter : a\n",
      "Current Letter : t\n",
      "Current Letter : a\n",
      "Current Letter : g\n",
      "Current Letter : y\n",
      "Current Letter : a\n"
     ]
    }
   ],
   "source": [
    "i = 0\n",
    "a = 'techdatagyan'\n",
    " \n",
    "while i < len(a):\n",
    "    if a[i] == 'd' or a[i] == 'n':\n",
    "        i += 1\n",
    "        continue\n",
    "         \n",
    "    print('Current Letter :', a[i])\n",
    "    i += 1"
   ]
  },
  {
   "cell_type": "markdown",
   "id": "399f9315",
   "metadata": {},
   "source": [
    "### The break Statement\n",
    "\n",
    "With the break statement we can stop the loop even if the while condition is true:"
   ]
  },
  {
   "cell_type": "code",
   "execution_count": 13,
   "id": "67af1ba0",
   "metadata": {},
   "outputs": [
    {
     "name": "stdout",
     "output_type": "stream",
     "text": [
      "1\n",
      "2\n"
     ]
    }
   ],
   "source": [
    "i = 1\n",
    "while i < 4:\n",
    "  print(i)\n",
    "  if i == 2:\n",
    "    break\n",
    "  i += 1"
   ]
  },
  {
   "cell_type": "markdown",
   "id": "3ddc9552",
   "metadata": {},
   "source": [
    "### While loop with else\n",
    "\n",
    "The else clause is only executed when your while condition becomes false. If you break out of the loop, or if an exception is raised, it won’t be executed."
   ]
  },
  {
   "cell_type": "code",
   "execution_count": 17,
   "id": "93837ed2",
   "metadata": {},
   "outputs": [
    {
     "name": "stdout",
     "output_type": "stream",
     "text": [
      "1\n",
      "2\n",
      "3\n",
      "4\n",
      "i is no longer less than 6\n"
     ]
    }
   ],
   "source": [
    "i = 1\n",
    "while i < 5:\n",
    "    print(i)\n",
    "    i += 1\n",
    "else:\n",
    "    print(\"i is no longer less than 6\")"
   ]
  },
  {
   "cell_type": "markdown",
   "id": "3660c684",
   "metadata": {},
   "source": [
    "### Python while loop with user input\n",
    "\n"
   ]
  },
  {
   "cell_type": "code",
   "execution_count": 20,
   "id": "cc3d31d4",
   "metadata": {},
   "outputs": [
    {
     "name": "stdout",
     "output_type": "stream",
     "text": [
      "Enter a number (1 to quit): 2\n",
      "Enter a number (1 to quit): 1\n"
     ]
    }
   ],
   "source": [
    "a = int(input('Enter a number (1 to quit): '))\n",
    " \n",
    "while a != 1:\n",
    "    a = int(input('Enter a number (1 to quit): '))"
   ]
  },
  {
   "cell_type": "code",
   "execution_count": null,
   "id": "d37a5c47",
   "metadata": {},
   "outputs": [],
   "source": []
  },
  {
   "cell_type": "code",
   "execution_count": null,
   "id": "ef5f1fcb",
   "metadata": {},
   "outputs": [],
   "source": []
  },
  {
   "cell_type": "code",
   "execution_count": null,
   "id": "1e3ab6bd",
   "metadata": {},
   "outputs": [],
   "source": []
  },
  {
   "cell_type": "code",
   "execution_count": null,
   "id": "7df07da7",
   "metadata": {},
   "outputs": [],
   "source": []
  },
  {
   "cell_type": "code",
   "execution_count": null,
   "id": "f147e98c",
   "metadata": {},
   "outputs": [],
   "source": []
  },
  {
   "cell_type": "code",
   "execution_count": null,
   "id": "c5975dcf",
   "metadata": {},
   "outputs": [],
   "source": []
  }
 ],
 "metadata": {
  "kernelspec": {
   "display_name": "Python 3 (ipykernel)",
   "language": "python",
   "name": "python3"
  },
  "language_info": {
   "codemirror_mode": {
    "name": "ipython",
    "version": 3
   },
   "file_extension": ".py",
   "mimetype": "text/x-python",
   "name": "python",
   "nbconvert_exporter": "python",
   "pygments_lexer": "ipython3",
   "version": "3.9.2"
  }
 },
 "nbformat": 4,
 "nbformat_minor": 5
}
