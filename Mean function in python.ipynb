{
 "cells": [
  {
   "cell_type": "markdown",
   "metadata": {},
   "source": [
    "## Mean Function in Python, Pandas\n",
    "\n",
    "Python is very popular language when it comes to statistics and analysis.python 3 provides statistics module which has important function mean(),median() and mode() etc. In this tutorial we will learn about the mean() function it returns mean of the dataset.\n"
   ]
  },
  {
   "cell_type": "markdown",
   "metadata": {},
   "source": [
    "DataFrame.mode(axis=0, numeric_only=False, dropna=True)\n",
    "axis \t 0 – get mode of each column\n",
    " 1 -get mode of each row\n",
    "numeric_only \t if True, only apply to numeric columns\n",
    "dropna \t Don’t consider the counts of NaN"
   ]
  },
  {
   "cell_type": "markdown",
   "metadata": {},
   "source": [
    "### Mean Function in Python"
   ]
  },
  {
   "cell_type": "code",
   "execution_count": 4,
   "metadata": {},
   "outputs": [
    {
     "name": "stdout",
     "output_type": "stream",
     "text": [
      "Mean is : 4.428571428571429\n"
     ]
    }
   ],
   "source": [
    "# calculate arithmetic mean\n",
    "import statistics\n",
    "\n",
    "# list of positive integer numbers\n",
    "data1 = [1, 3, 4, 5, 7, 9, 2]\n",
    "  \n",
    "x = statistics.mean(data1)\n",
    "  \n",
    "# Printing the mean\n",
    "print(\"Mean is :\", x)\n"
   ]
  },
  {
   "cell_type": "markdown",
   "metadata": {},
   "source": [
    "### Mean of a dataframe in pandas python"
   ]
  },
  {
   "cell_type": "code",
   "execution_count": 7,
   "metadata": {},
   "outputs": [
    {
     "data": {
      "text/html": [
       "<div>\n",
       "<style scoped>\n",
       "    .dataframe tbody tr th:only-of-type {\n",
       "        vertical-align: middle;\n",
       "    }\n",
       "\n",
       "    .dataframe tbody tr th {\n",
       "        vertical-align: top;\n",
       "    }\n",
       "\n",
       "    .dataframe thead th {\n",
       "        text-align: right;\n",
       "    }\n",
       "</style>\n",
       "<table border=\"1\" class=\"dataframe\">\n",
       "  <thead>\n",
       "    <tr style=\"text-align: right;\">\n",
       "      <th></th>\n",
       "      <th>first_name</th>\n",
       "      <th>degree</th>\n",
       "      <th>age</th>\n",
       "      <th>score</th>\n",
       "    </tr>\n",
       "  </thead>\n",
       "  <tbody>\n",
       "    <tr>\n",
       "      <th>0</th>\n",
       "      <td>Sam</td>\n",
       "      <td>PhD</td>\n",
       "      <td>25</td>\n",
       "      <td>250</td>\n",
       "    </tr>\n",
       "    <tr>\n",
       "      <th>1</th>\n",
       "      <td>Ziva</td>\n",
       "      <td>MBA</td>\n",
       "      <td>29</td>\n",
       "      <td>290</td>\n",
       "    </tr>\n",
       "    <tr>\n",
       "      <th>2</th>\n",
       "      <td>Kia</td>\n",
       "      <td>PhD</td>\n",
       "      <td>19</td>\n",
       "      <td>190</td>\n",
       "    </tr>\n",
       "    <tr>\n",
       "      <th>3</th>\n",
       "      <td>Robin</td>\n",
       "      <td>MS</td>\n",
       "      <td>21</td>\n",
       "      <td>210</td>\n",
       "    </tr>\n",
       "    <tr>\n",
       "      <th>4</th>\n",
       "      <td>Kim</td>\n",
       "      <td>MBA</td>\n",
       "      <td>33</td>\n",
       "      <td>330</td>\n",
       "    </tr>\n",
       "    <tr>\n",
       "      <th>5</th>\n",
       "      <td>Ram</td>\n",
       "      <td>PhD</td>\n",
       "      <td>38</td>\n",
       "      <td>380</td>\n",
       "    </tr>\n",
       "    <tr>\n",
       "      <th>6</th>\n",
       "      <td>Zen</td>\n",
       "      <td>PhD</td>\n",
       "      <td>24</td>\n",
       "      <td>240</td>\n",
       "    </tr>\n",
       "    <tr>\n",
       "      <th>7</th>\n",
       "      <td>John</td>\n",
       "      <td>MS</td>\n",
       "      <td>26</td>\n",
       "      <td>260</td>\n",
       "    </tr>\n",
       "    <tr>\n",
       "      <th>8</th>\n",
       "      <td>Ariel</td>\n",
       "      <td>PhD</td>\n",
       "      <td>32</td>\n",
       "      <td>320</td>\n",
       "    </tr>\n",
       "    <tr>\n",
       "      <th>9</th>\n",
       "      <td>Ron</td>\n",
       "      <td>PhD</td>\n",
       "      <td>29</td>\n",
       "      <td>290</td>\n",
       "    </tr>\n",
       "  </tbody>\n",
       "</table>\n",
       "</div>"
      ],
      "text/plain": [
       "  first_name degree  age  score\n",
       "0        Sam    PhD   25    250\n",
       "1       Ziva    MBA   29    290\n",
       "2        Kia    PhD   19    190\n",
       "3      Robin     MS   21    210\n",
       "4        Kim    MBA   33    330\n",
       "5        Ram    PhD   38    380\n",
       "6        Zen    PhD   24    240\n",
       "7       John     MS   26    260\n",
       "8      Ariel    PhD   32    320\n",
       "9        Ron    PhD   29    290"
      ]
     },
     "execution_count": 7,
     "metadata": {},
     "output_type": "execute_result"
    }
   ],
   "source": [
    "#Create a dataframe\n",
    "\n",
    "import pandas as pd\n",
    "import numpy as np\n",
    "\n",
    "raw_data = {'first_name': ['Sam','Ziva','Kia','Robin','Kim','Ram','Zen','John','Ariel','Ron'], \n",
    "         'degree': ['PhD','MBA','PhD','MS','MBA','PhD','PhD','MS','PhD','PhD'],\n",
    "         'age': [25, 29, 19, 21, 33, 38, 24, 26, 32, 29],\n",
    "         'score': [250, 290, 190, 210, 330, 380, 240, 260, 320, 290]}\n",
    "df = pd.DataFrame(raw_data)\n",
    "df"
   ]
  },
  {
   "cell_type": "code",
   "execution_count": 8,
   "metadata": {},
   "outputs": [
    {
     "data": {
      "text/plain": [
       "age       27.6\n",
       "score    276.0\n",
       "dtype: float64"
      ]
     },
     "execution_count": 8,
     "metadata": {},
     "output_type": "execute_result"
    }
   ],
   "source": [
    "# Mean of the dataframe\n",
    "df.mean()"
   ]
  },
  {
   "cell_type": "markdown",
   "metadata": {},
   "source": [
    "### Column mean of the dataframe\n",
    "\n",
    "axis=0 argument calculates the column wise mean of the dataframe so the result will be"
   ]
  },
  {
   "cell_type": "code",
   "execution_count": 9,
   "metadata": {},
   "outputs": [
    {
     "data": {
      "text/plain": [
       "age       27.6\n",
       "score    276.0\n",
       "dtype: float64"
      ]
     },
     "execution_count": 9,
     "metadata": {},
     "output_type": "execute_result"
    }
   ],
   "source": [
    "# column mean of the dataframe\n",
    "df.mean(axis=0)\n"
   ]
  },
  {
   "cell_type": "markdown",
   "metadata": {},
   "source": [
    "### Row Mean of the dataframe\n",
    "\n",
    "axis=1 argument calculates the row wise mean of the dataframe so the result will be"
   ]
  },
  {
   "cell_type": "code",
   "execution_count": 10,
   "metadata": {},
   "outputs": [
    {
     "data": {
      "text/plain": [
       "0    137.5\n",
       "1    159.5\n",
       "2    104.5\n",
       "3    115.5\n",
       "4    181.5\n",
       "5    209.0\n",
       "6    132.0\n",
       "7    143.0\n",
       "8    176.0\n",
       "9    159.5\n",
       "dtype: float64"
      ]
     },
     "execution_count": 10,
     "metadata": {},
     "output_type": "execute_result"
    }
   ],
   "source": [
    "# Row mean of the dataframe\n",
    "df.mean(axis=1)"
   ]
  },
  {
   "cell_type": "code",
   "execution_count": null,
   "metadata": {},
   "outputs": [],
   "source": []
  },
  {
   "cell_type": "code",
   "execution_count": null,
   "metadata": {},
   "outputs": [],
   "source": []
  },
  {
   "cell_type": "code",
   "execution_count": null,
   "metadata": {},
   "outputs": [],
   "source": []
  },
  {
   "cell_type": "markdown",
   "metadata": {},
   "source": []
  }
 ],
 "metadata": {
  "kernelspec": {
   "display_name": "Python 3",
   "language": "python",
   "name": "python3"
  },
  "language_info": {
   "codemirror_mode": {
    "name": "ipython",
    "version": 3
   },
   "file_extension": ".py",
   "mimetype": "text/x-python",
   "name": "python",
   "nbconvert_exporter": "python",
   "pygments_lexer": "ipython3",
   "version": "3.8.5"
  }
 },
 "nbformat": 4,
 "nbformat_minor": 4
}
